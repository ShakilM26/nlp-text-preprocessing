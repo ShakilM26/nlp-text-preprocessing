{
 "cells": [
  {
   "cell_type": "markdown",
   "id": "8ac088bd",
   "metadata": {},
   "source": [
    "Spacy is an open source library. \n",
    "\n",
    "It is designed to help us build NLP applications that can\n",
    "process large volumes of text efficiently.\n",
    "\n",
    "It has a built-in mechanism that is used for identifying and classifying named entities."
   ]
  },
  {
   "cell_type": "markdown",
   "id": "7d4c989a",
   "metadata": {},
   "source": [
    "#### Some features of spaCy include:\n",
    "\n",
    "Tokenization: Split text into individual words and punctuation\n",
    "\n",
    "Part-of-speech (POS) tagging: Identify the part of speech of each word\n",
    "\n",
    "Dependency parsing: Identify the relationships between words in a sentence\n",
    "\n",
    "Named entity recognition (NER): Identify and classify named entities in text\n",
    "\n",
    "Similarity: Determine the similarity between two pieces of text\n",
    "\n",
    "Text classification: Classify text into categories\n",
    "\n",
    "Rule-based matching: Search for patterns in text using custom rules"
   ]
  },
  {
   "cell_type": "code",
   "execution_count": 2,
   "id": "98b91182",
   "metadata": {},
   "outputs": [],
   "source": [
    "import spacy"
   ]
  },
  {
   "cell_type": "code",
   "execution_count": 3,
   "id": "a9a687b4",
   "metadata": {},
   "outputs": [],
   "source": [
    "# small pre-trained model \n",
    "\n",
    "nlp = spacy.load(\"en_core_web_sm\")"
   ]
  },
  {
   "cell_type": "code",
   "execution_count": 5,
   "id": "43eb4aaa",
   "metadata": {},
   "outputs": [],
   "source": [
    "text = \"Google's last year revenue was 256.7 billion U.S. dollars\""
   ]
  },
  {
   "cell_type": "code",
   "execution_count": 8,
   "id": "0b8195ab",
   "metadata": {},
   "outputs": [],
   "source": [
    "# Process the text using nlp object\n",
    "doc = nlp(text)"
   ]
  },
  {
   "cell_type": "code",
   "execution_count": 9,
   "id": "61ba5607",
   "metadata": {},
   "outputs": [
    {
     "name": "stdout",
     "output_type": "stream",
     "text": [
      "(Google, last year, 256.7 billion U.S. dollars)\n"
     ]
    }
   ],
   "source": [
    "print(doc.ents)"
   ]
  },
  {
   "cell_type": "code",
   "execution_count": 10,
   "id": "f7653fbe",
   "metadata": {},
   "outputs": [
    {
     "name": "stdout",
     "output_type": "stream",
     "text": [
      "Google ORG\n",
      "last year DATE\n",
      "256.7 billion U.S. dollars MONEY\n"
     ]
    }
   ],
   "source": [
    "# entity text and it's label\n",
    "\n",
    "for entity in doc.ents:\n",
    "    print(entity, entity.label_)"
   ]
  },
  {
   "cell_type": "code",
   "execution_count": 11,
   "id": "861ee791",
   "metadata": {},
   "outputs": [],
   "source": [
    "# Visualizing Named Entities using displacy and it's \n",
    "# Spacy dependency visualizer\n",
    "\n",
    "from spacy import displacy"
   ]
  },
  {
   "cell_type": "code",
   "execution_count": 12,
   "id": "5246d7c5",
   "metadata": {},
   "outputs": [
    {
     "data": {
      "text/html": [
       "<span class=\"tex2jax_ignore\"><div class=\"entities\" style=\"line-height: 2.5; direction: ltr\">\n",
       "<mark class=\"entity\" style=\"background: #7aecec; padding: 0.45em 0.6em; margin: 0 0.25em; line-height: 1; border-radius: 0.35em;\">\n",
       "    Google\n",
       "    <span style=\"font-size: 0.8em; font-weight: bold; line-height: 1; border-radius: 0.35em; text-transform: uppercase; vertical-align: middle; margin-left: 0.5rem\">ORG</span>\n",
       "</mark>\n",
       "'s \n",
       "<mark class=\"entity\" style=\"background: #bfe1d9; padding: 0.45em 0.6em; margin: 0 0.25em; line-height: 1; border-radius: 0.35em;\">\n",
       "    last year\n",
       "    <span style=\"font-size: 0.8em; font-weight: bold; line-height: 1; border-radius: 0.35em; text-transform: uppercase; vertical-align: middle; margin-left: 0.5rem\">DATE</span>\n",
       "</mark>\n",
       " revenue was \n",
       "<mark class=\"entity\" style=\"background: #e4e7d2; padding: 0.45em 0.6em; margin: 0 0.25em; line-height: 1; border-radius: 0.35em;\">\n",
       "    256.7 billion U.S. dollars\n",
       "    <span style=\"font-size: 0.8em; font-weight: bold; line-height: 1; border-radius: 0.35em; text-transform: uppercase; vertical-align: middle; margin-left: 0.5rem\">MONEY</span>\n",
       "</mark>\n",
       "</div></span>"
      ],
      "text/plain": [
       "<IPython.core.display.HTML object>"
      ]
     },
     "metadata": {},
     "output_type": "display_data"
    }
   ],
   "source": [
    "displacy.render(doc, style='ent', jupyter=True)"
   ]
  },
  {
   "cell_type": "code",
   "execution_count": null,
   "id": "5dcec304",
   "metadata": {},
   "outputs": [],
   "source": []
  }
 ],
 "metadata": {
  "kernelspec": {
   "display_name": "Python 3 (ipykernel)",
   "language": "python",
   "name": "python3"
  },
  "language_info": {
   "codemirror_mode": {
    "name": "ipython",
    "version": 3
   },
   "file_extension": ".py",
   "mimetype": "text/x-python",
   "name": "python",
   "nbconvert_exporter": "python",
   "pygments_lexer": "ipython3",
   "version": "3.9.15"
  }
 },
 "nbformat": 4,
 "nbformat_minor": 5
}
