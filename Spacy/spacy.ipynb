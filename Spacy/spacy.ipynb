{
 "cells": [
  {
   "cell_type": "code",
   "execution_count": 6,
   "id": "744baa28",
   "metadata": {},
   "outputs": [],
   "source": [
    "import spacy"
   ]
  },
  {
   "cell_type": "code",
   "execution_count": 7,
   "id": "2ecccfc1",
   "metadata": {},
   "outputs": [
    {
     "data": {
      "text/plain": [
       "<spacy.lang.en.English at 0x1d9796c6d90>"
      ]
     },
     "execution_count": 7,
     "metadata": {},
     "output_type": "execute_result"
    }
   ],
   "source": [
    "nlp = spacy.load('en_core_web_sm')\n",
    "nlp"
   ]
  },
  {
   "cell_type": "markdown",
   "id": "81b32377",
   "metadata": {},
   "source": [
    "### Lemmatization\n",
    "* Lemmatization is convert a text or word to it's root form.\n",
    "* SpaCy provide robust solution for this."
   ]
  },
  {
   "cell_type": "code",
   "execution_count": 35,
   "id": "48e23cdf",
   "metadata": {},
   "outputs": [
    {
     "name": "stdout",
     "output_type": "stream",
     "text": [
      "he\n",
      "love\n",
      "walk\n",
      "in\n",
      "the\n",
      "rain\n",
      ".\n"
     ]
    }
   ],
   "source": [
    "text = 'He loved walking in the rain.'\n",
    "nile = nlp(text)\n",
    "\n",
    "for token in nile:\n",
    "    print(token.lemma_)"
   ]
  },
  {
   "cell_type": "markdown",
   "id": "71b2fdeb",
   "metadata": {},
   "source": [
    "### String to Hashes"
   ]
  },
  {
   "cell_type": "code",
   "execution_count": 36,
   "id": "68f55977",
   "metadata": {},
   "outputs": [
    {
     "data": {
      "text/plain": [
       "6597542354426545486"
      ]
     },
     "execution_count": 36,
     "metadata": {},
     "output_type": "execute_result"
    }
   ],
   "source": [
    "lines = nlp('I love reading')\n",
    "\n",
    "# check hash for the word of 'reading'\n",
    "hash_no = nlp.vocab.strings['reading']\n",
    "hash_no"
   ]
  },
  {
   "cell_type": "code",
   "execution_count": 37,
   "id": "dc7965d9",
   "metadata": {},
   "outputs": [
    {
     "data": {
      "text/plain": [
       "'reading'"
      ]
     },
     "execution_count": 37,
     "metadata": {},
     "output_type": "execute_result"
    }
   ],
   "source": [
    "# now using hash_no get the string\n",
    "string = nlp.vocab.strings[hash_no]\n",
    "string"
   ]
  },
  {
   "cell_type": "code",
   "execution_count": null,
   "id": "594bec5f",
   "metadata": {},
   "outputs": [],
   "source": []
  },
  {
   "cell_type": "code",
   "execution_count": 38,
   "id": "7fe73091",
   "metadata": {},
   "outputs": [
    {
     "name": "stdout",
     "output_type": "stream",
     "text": [
      "My -- 16248400320781648534\n",
      "girlfriend -- 4668896997415073472\n",
      "bought -- 5204146470106475914\n",
      "me -- 18197037023634208128\n",
      "a -- 11901859001352538922\n",
      "shirt -- 682501080797652416\n"
     ]
    }
   ],
   "source": [
    "gf1 = nlp('My girlfriend bought me a shirt')\n",
    "gf2 = nlp('I bought a shirt today')\n",
    "\n",
    "for token in gf1:\n",
    "    hash_val = nlp.vocab.strings[token.text]\n",
    "    print(token.text, '--', hash_val)"
   ]
  },
  {
   "cell_type": "code",
   "execution_count": 39,
   "id": "45a2aa63",
   "metadata": {},
   "outputs": [
    {
     "name": "stdout",
     "output_type": "stream",
     "text": [
      "I -- 4690420944186131903\n",
      "bought -- 5204146470106475914\n",
      "a -- 11901859001352538922\n",
      "shirt -- 682501080797652416\n",
      "today -- 11042482332948150395\n"
     ]
    }
   ],
   "source": [
    "for token in gf2:\n",
    "    hash_val = nlp.vocab.strings[token.text]\n",
    "    print(token.text, '--', hash_val)"
   ]
  },
  {
   "cell_type": "markdown",
   "id": "c5b21de7",
   "metadata": {},
   "source": [
    "### we can clearly see that, some words hash value is the same which save memory space."
   ]
  },
  {
   "cell_type": "code",
   "execution_count": null,
   "id": "cf8167fe",
   "metadata": {},
   "outputs": [],
   "source": []
  }
 ],
 "metadata": {
  "kernelspec": {
   "display_name": "Python 3 (ipykernel)",
   "language": "python",
   "name": "python3"
  },
  "language_info": {
   "codemirror_mode": {
    "name": "ipython",
    "version": 3
   },
   "file_extension": ".py",
   "mimetype": "text/x-python",
   "name": "python",
   "nbconvert_exporter": "python",
   "pygments_lexer": "ipython3",
   "version": "3.9.13"
  }
 },
 "nbformat": 4,
 "nbformat_minor": 5
}
