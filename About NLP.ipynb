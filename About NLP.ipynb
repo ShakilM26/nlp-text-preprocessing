{
 "cells": [
  {
   "cell_type": "markdown",
   "id": "774becde",
   "metadata": {},
   "source": [
    "### Natural Language \n",
    "#### The language that people usually speak to each other is called natural language.\n"
   ]
  },
  {
   "cell_type": "code",
   "execution_count": null,
   "id": "fed27fd1",
   "metadata": {},
   "outputs": [],
   "source": []
  },
  {
   "cell_type": "markdown",
   "id": "654fe0fa",
   "metadata": {},
   "source": [
    "### NLP\n",
    "#### NLP is a field of artificial intelligence. Where human language or natural language is analyzed, meaningful information is extracted. The information that will be useful is brought out in a smart way in NLP."
   ]
  },
  {
   "cell_type": "code",
   "execution_count": null,
   "id": "41b6fee0",
   "metadata": {},
   "outputs": [],
   "source": []
  },
  {
   "cell_type": "markdown",
   "id": "030f268c",
   "metadata": {},
   "source": [
    "### Text Analytics\n",
    "#### Text Analytics is the process of deriving meaningful information from the natural language’s text like, specific person's information, company information etc.\n",
    "\n",
    "#### Text Analytics is Nothing but the preprocessing that is required before giving the data to the model."
   ]
  },
  {
   "cell_type": "code",
   "execution_count": null,
   "id": "5842691d",
   "metadata": {},
   "outputs": [],
   "source": []
  },
  {
   "cell_type": "markdown",
   "id": "74090f9c",
   "metadata": {},
   "source": [
    "### Text Analysis Vs Text Analytics. There's a slight difference between these two...\n",
    "#### Text analysis delivers qualitative results and text analytics delivers quantitative results. If a machine performs text analysis, it identifies important information within the text itself, but if it performs text analytics, it reveals patterns across thousands of texts, resulting in graphs, reports, tables etc.¶"
   ]
  },
  {
   "cell_type": "code",
   "execution_count": null,
   "id": "dd0a78da",
   "metadata": {},
   "outputs": [],
   "source": []
  },
  {
   "cell_type": "markdown",
   "id": "118dc510",
   "metadata": {},
   "source": [
    "### Why we need text pre-processing?\n",
    "#### Let's say you have a large amount of customer feedback, which is essentially unstructured.\n",
    "#### Now if you want to use machine learning model on it then you need to convert this unstructured data into structured format. Lowercase data, remove symbols, remove unusual text, etc."
   ]
  },
  {
   "cell_type": "code",
   "execution_count": null,
   "id": "befb9720",
   "metadata": {},
   "outputs": [],
   "source": []
  },
  {
   "cell_type": "code",
   "execution_count": null,
   "id": "421a9ce4",
   "metadata": {},
   "outputs": [],
   "source": []
  },
  {
   "cell_type": "code",
   "execution_count": null,
   "id": "14320fb1",
   "metadata": {},
   "outputs": [],
   "source": []
  },
  {
   "cell_type": "code",
   "execution_count": null,
   "id": "92db1634",
   "metadata": {},
   "outputs": [],
   "source": []
  },
  {
   "cell_type": "code",
   "execution_count": null,
   "id": "37b6f07a",
   "metadata": {},
   "outputs": [],
   "source": []
  }
 ],
 "metadata": {
  "kernelspec": {
   "display_name": "Python 3 (ipykernel)",
   "language": "python",
   "name": "python3"
  },
  "language_info": {
   "codemirror_mode": {
    "name": "ipython",
    "version": 3
   },
   "file_extension": ".py",
   "mimetype": "text/x-python",
   "name": "python",
   "nbconvert_exporter": "python",
   "pygments_lexer": "ipython3",
   "version": "3.9.13"
  }
 },
 "nbformat": 4,
 "nbformat_minor": 5
}
