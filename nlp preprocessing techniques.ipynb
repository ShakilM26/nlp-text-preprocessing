{
 "cells": [
  {
   "cell_type": "markdown",
   "id": "17f198d2",
   "metadata": {},
   "source": [
    "# Text pre-processing Techniques "
   ]
  },
  {
   "cell_type": "code",
   "execution_count": null,
   "id": "609b8992",
   "metadata": {},
   "outputs": [],
   "source": []
  },
  {
   "cell_type": "code",
   "execution_count": 3,
   "id": "1d353e71",
   "metadata": {},
   "outputs": [],
   "source": [
    "text = '<div class=\"header\"> We trust that time is linear </div>. That it proceeds eternally, uniformly. <h1> Into infinity.<h1> But the distinction between past, https://present.com present and future is nothing but an illusion. 2Yesterday, today and tomorrow are not 3 consecutive, they are connected in a never-ending circle ??. Everything is connected !!.'"
   ]
  },
  {
   "cell_type": "markdown",
   "id": "44928120",
   "metadata": {},
   "source": [
    "### Remove HTML Tags"
   ]
  },
  {
   "cell_type": "code",
   "execution_count": 4,
   "id": "215cd65f",
   "metadata": {},
   "outputs": [
    {
     "data": {
      "text/plain": [
       "' We trust that time is linear . That it proceeds eternally, uniformly.  Into infinity. But the distinction between past, https://present.com present and future is nothing but an illusion. 2Yesterday, today and tomorrow are not 3 consecutive, they are connected in a never-ending circle ??. Everything is connected !!.'"
      ]
     },
     "execution_count": 4,
     "metadata": {},
     "output_type": "execute_result"
    }
   ],
   "source": [
    "import re \n",
    "def remove_html_tags(text):\n",
    "    pattern = re.compile(r'<[^>]+>')\n",
    "    return pattern.sub(r'', text)\n",
    "new_text = remove_html_tags(text)\n",
    "new_text"
   ]
  },
  {
   "cell_type": "markdown",
   "id": "f3cba8e6",
   "metadata": {},
   "source": [
    "### Remove URL"
   ]
  },
  {
   "cell_type": "code",
   "execution_count": 5,
   "id": "a6c7c7b4",
   "metadata": {},
   "outputs": [
    {
     "data": {
      "text/plain": [
       "' We trust that time is linear . That it proceeds eternally, uniformly.  Into infinity. But the distinction between past,  present and future is nothing but an illusion. 2Yesterday, today and tomorrow are not 3 consecutive, they are connected in a never-ending circle ??. Everything is connected !!.'"
      ]
     },
     "execution_count": 5,
     "metadata": {},
     "output_type": "execute_result"
    }
   ],
   "source": [
    "rmv_url = re.sub(r'http\\S+', '', new_text)\n",
    "rmv_url"
   ]
  },
  {
   "cell_type": "markdown",
   "id": "0bf45f5b",
   "metadata": {},
   "source": [
    "### Remove Number"
   ]
  },
  {
   "cell_type": "code",
   "execution_count": 6,
   "id": "3a507efa",
   "metadata": {},
   "outputs": [
    {
     "data": {
      "text/plain": [
       "' We trust that time is linear . That it proceeds eternally, uniformly.  Into infinity. But the distinction between past,  present and future is nothing but an illusion. Yesterday, today and tomorrow are not  consecutive, they are connected in a never-ending circle ??. Everything is connected !!.'"
      ]
     },
     "execution_count": 6,
     "metadata": {},
     "output_type": "execute_result"
    }
   ],
   "source": [
    "# there is some number like,... 2yesterday, not 3 consecutive \n",
    "\n",
    "rmv_num = re.sub(r'[0-9]', '', rmv_url)\n",
    "rmv_num"
   ]
  },
  {
   "cell_type": "markdown",
   "id": "831f5c48",
   "metadata": {},
   "source": [
    "### Remove Punctuation"
   ]
  },
  {
   "cell_type": "code",
   "execution_count": 7,
   "id": "73760f75",
   "metadata": {},
   "outputs": [
    {
     "data": {
      "text/plain": [
       "' We trust that time is linear  That it proceeds eternally uniformly  Into infinity But the distinction between past  present and future is nothing but an illusion Yesterday today and tomorrow are not  consecutive they are connected in a neverending circle  Everything is connected '"
      ]
     },
     "execution_count": 7,
     "metadata": {},
     "output_type": "execute_result"
    }
   ],
   "source": [
    "rmv_punc = re.sub(r'[^\\w\\s]', '', rmv_num)\n",
    "rmv_punc"
   ]
  },
  {
   "cell_type": "markdown",
   "id": "884a8bd3",
   "metadata": {},
   "source": [
    "### Remove Punctuation using string"
   ]
  },
  {
   "cell_type": "code",
   "execution_count": 8,
   "id": "878117b3",
   "metadata": {},
   "outputs": [
    {
     "data": {
      "text/plain": [
       "'Hey  Good Morning Wanna walk with you '"
      ]
     },
     "execution_count": 8,
     "metadata": {},
     "output_type": "execute_result"
    }
   ],
   "source": [
    "import string\n",
    "morning = 'Hey !! Good Morning,. Wanna walk with you ?'\n",
    "\n",
    "new_morning = morning.translate((str.maketrans('', '', string.punctuation)))\n",
    "new_morning"
   ]
  },
  {
   "cell_type": "markdown",
   "id": "a3a8fce2",
   "metadata": {},
   "source": [
    "### Using replace method"
   ]
  },
  {
   "cell_type": "code",
   "execution_count": 9,
   "id": "c2226e69",
   "metadata": {},
   "outputs": [
    {
     "data": {
      "text/plain": [
       "'I want to become a dragon king'"
      ]
     },
     "execution_count": 9,
     "metadata": {},
     "output_type": "execute_result"
    }
   ],
   "source": [
    "# Using replace with for loop \n",
    "\n",
    "line = 'I want to become! a dragon [k]ing?'\n",
    "\n",
    "for s in string.punctuation:\n",
    "    line = line.replace(s, '')\n",
    "line"
   ]
  },
  {
   "cell_type": "code",
   "execution_count": null,
   "id": "6add7beb",
   "metadata": {},
   "outputs": [],
   "source": []
  },
  {
   "cell_type": "markdown",
   "id": "38ae23dc",
   "metadata": {},
   "source": [
    "### Another method"
   ]
  },
  {
   "cell_type": "code",
   "execution_count": 10,
   "id": "3e53e78d",
   "metadata": {},
   "outputs": [
    {
     "name": "stdout",
     "output_type": "stream",
     "text": [
      "I was a slave until I died Then I was reborn a god My son sacrificed his life to save me Now I kneel before no one\n"
     ]
    }
   ],
   "source": [
    "import string\n",
    "\n",
    "punc = string.punctuation\n",
    "def punc_clean(text):\n",
    "    return text.translate(str.maketrans('', '', punc))\n",
    "\n",
    "text = 'I was a slave until I died. Then I was reborn a god. My son sacrificed his life to save me. Now, I kneel before no one.'\n",
    "print(punc_clean(text))"
   ]
  },
  {
   "cell_type": "code",
   "execution_count": null,
   "id": "33495e3e",
   "metadata": {},
   "outputs": [],
   "source": []
  },
  {
   "cell_type": "markdown",
   "id": "bdc69428",
   "metadata": {},
   "source": [
    "### HTML and URL Remove using functions"
   ]
  },
  {
   "cell_type": "code",
   "execution_count": 15,
   "id": "09364716",
   "metadata": {},
   "outputs": [
    {
     "name": "stdout",
     "output_type": "stream",
     "text": [
      "The idea was to  bring together a group of remarkable\n",
      "There was an  idea. \n"
     ]
    }
   ],
   "source": [
    "#html and url\n",
    "\n",
    "def url_remove(text):\n",
    "    url_pattern = re.compile(r'https?://\\S+|www\\.\\S+')\n",
    "    return url_pattern.sub(r'', text)\n",
    "\n",
    "def html_remove(text2):\n",
    "    html_pattern = re.compile('<.*?>')\n",
    "    return html_pattern.sub(r'', text2)\n",
    "\n",
    "text = 'The idea was to https://python.org bring together a group of remarkable'\n",
    "print(url_remove(text))\n",
    "text2 = 'There was an <h1> idea. </h1>'\n",
    "print(html_remove(text2))"
   ]
  },
  {
   "cell_type": "code",
   "execution_count": null,
   "id": "2605c4a1",
   "metadata": {},
   "outputs": [],
   "source": []
  }
 ],
 "metadata": {
  "kernelspec": {
   "display_name": "Python 3 (ipykernel)",
   "language": "python",
   "name": "python3"
  },
  "language_info": {
   "codemirror_mode": {
    "name": "ipython",
    "version": 3
   },
   "file_extension": ".py",
   "mimetype": "text/x-python",
   "name": "python",
   "nbconvert_exporter": "python",
   "pygments_lexer": "ipython3",
   "version": "3.9.13"
  }
 },
 "nbformat": 4,
 "nbformat_minor": 5
}
