{
  "nbformat": 4,
  "nbformat_minor": 0,
  "metadata": {
    "colab": {
      "provenance": [],
      "collapsed_sections": [],
      "authorship_tag": "ABX9TyPh60IQGCxrrinlT3vIHd3b",
      "include_colab_link": true
    },
    "kernelspec": {
      "name": "python3",
      "display_name": "Python 3"
    },
    "language_info": {
      "name": "python"
    }
  },
  "cells": [
    {
      "cell_type": "markdown",
      "metadata": {
        "id": "view-in-github",
        "colab_type": "text"
      },
      "source": [
        "<a href=\"https://colab.research.google.com/github/ShakilM26/nlp-text-preprocessing-/blob/main/pre_processing_techniues_2.ipynb\" target=\"_parent\"><img src=\"https://colab.research.google.com/assets/colab-badge.svg\" alt=\"Open In Colab\"/></a>"
      ]
    },
    {
      "cell_type": "code",
      "execution_count": 2,
      "metadata": {
        "id": "C6nRC-WDgTY_"
      },
      "outputs": [],
      "source": [
        "import nltk"
      ]
    },
    {
      "cell_type": "code",
      "source": [
        "text = \"Life isn't about finding yourself. Life is about creating yourself. — George Bernard Shaw\""
      ],
      "metadata": {
        "id": "zbkS0cC7iDvz"
      },
      "execution_count": 3,
      "outputs": []
    },
    {
      "cell_type": "markdown",
      "source": [
        "**word tokenize**"
      ],
      "metadata": {
        "id": "DhqAwq_oiNgs"
      }
    },
    {
      "cell_type": "code",
      "source": [
        "from nltk import word_tokenize\n",
        "token = word_tokenize(text)\n",
        "print(token)"
      ],
      "metadata": {
        "colab": {
          "base_uri": "https://localhost:8080/"
        },
        "id": "AiPdaU5HiEK0",
        "outputId": "ae81be28-74d5-4bb6-9d0d-2bc196521095"
      },
      "execution_count": 12,
      "outputs": [
        {
          "output_type": "stream",
          "name": "stdout",
          "text": [
            "['Life', 'is', \"n't\", 'about', 'finding', 'yourself', '.', 'Life', 'is', 'about', 'creating', 'yourself', '.', '—', 'George', 'Bernard', 'Shaw']\n"
          ]
        }
      ]
    },
    {
      "cell_type": "markdown",
      "source": [
        "**freequency**"
      ],
      "metadata": {
        "id": "JcM5LVr7isOY"
      }
    },
    {
      "cell_type": "code",
      "source": [
        "from nltk.probability import FreqDist \n",
        "fre = FreqDist(token)\n",
        "fre"
      ],
      "metadata": {
        "colab": {
          "base_uri": "https://localhost:8080/"
        },
        "id": "gduSO14LiEMo",
        "outputId": "784eadae-25aa-415e-8e3b-0744ed9f8126"
      },
      "execution_count": 13,
      "outputs": [
        {
          "output_type": "execute_result",
          "data": {
            "text/plain": [
              "FreqDist({'Life': 2, 'is': 2, 'about': 2, 'yourself': 2, '.': 2, \"n't\": 1, 'finding': 1, 'creating': 1, '—': 1, 'George': 1, ...})"
            ]
          },
          "metadata": {},
          "execution_count": 13
        }
      ]
    },
    {
      "cell_type": "markdown",
      "source": [
        "**most common**"
      ],
      "metadata": {
        "id": "sSeCFoDRjBv_"
      }
    },
    {
      "cell_type": "code",
      "source": [
        "most_common = fre.most_common(4)\n",
        "most_common"
      ],
      "metadata": {
        "colab": {
          "base_uri": "https://localhost:8080/"
        },
        "id": "nxVUoAg5iEO-",
        "outputId": "d269db27-eeec-4a35-9ea9-9f8ec317d26f"
      },
      "execution_count": 14,
      "outputs": [
        {
          "output_type": "execute_result",
          "data": {
            "text/plain": [
              "[('Life', 2), ('is', 2), ('about', 2), ('yourself', 2)]"
            ]
          },
          "metadata": {},
          "execution_count": 14
        }
      ]
    },
    {
      "cell_type": "markdown",
      "source": [
        "**Stop Words**"
      ],
      "metadata": {
        "id": "LeId3Hy_jWpl"
      }
    },
    {
      "cell_type": "code",
      "source": [
        "from nltk import word_tokenize\n",
        "from nltk.corpus import stopwords \n",
        "\n",
        "a = set(stopwords.words('english'))\n",
        "text = 'Sir J.R.R. Tolkien was born in South Africa 1892, 3 January, at Bloemfontein.'\n",
        "\n",
        "token = word_tokenize(text.lower())\n",
        "\n",
        "stopwords = [x for x in token if x not in a]\n",
        "print(stopwords)"
      ],
      "metadata": {
        "colab": {
          "base_uri": "https://localhost:8080/"
        },
        "id": "aAS2FB3kiEQb",
        "outputId": "5601206e-2dc4-4ce5-8308-b4a508620286"
      },
      "execution_count": 19,
      "outputs": [
        {
          "output_type": "stream",
          "name": "stdout",
          "text": [
            "['sir', 'j.r.r', '.', 'tolkien', 'born', 'south', 'africa', '1892', ',', '3', 'january', ',', 'bloemfontein', '.']\n"
          ]
        }
      ]
    },
    {
      "cell_type": "markdown",
      "source": [
        "**parts of speech (POS) tag**"
      ],
      "metadata": {
        "id": "MoK5J8uvlYvZ"
      }
    },
    {
      "cell_type": "code",
      "source": [
        "text = \"vote to choose a particular man or a group (party) to represent them in parliament\"\n",
        "\n",
        "token = word_tokenize(text)\n",
        "for t in token:\n",
        "  print(nltk.pos_tag([t]))"
      ],
      "metadata": {
        "colab": {
          "base_uri": "https://localhost:8080/"
        },
        "id": "vvOpsNRQiETe",
        "outputId": "be74601d-5a72-4f4e-c1df-02f7686d7403"
      },
      "execution_count": 22,
      "outputs": [
        {
          "output_type": "stream",
          "name": "stdout",
          "text": [
            "[('vote', 'NN')]\n",
            "[('to', 'TO')]\n",
            "[('choose', 'NN')]\n",
            "[('a', 'DT')]\n",
            "[('particular', 'JJ')]\n",
            "[('man', 'NN')]\n",
            "[('or', 'CC')]\n",
            "[('a', 'DT')]\n",
            "[('group', 'NN')]\n",
            "[('(', '(')]\n",
            "[('party', 'NN')]\n",
            "[(')', ')')]\n",
            "[('to', 'TO')]\n",
            "[('represent', 'NN')]\n",
            "[('them', 'PRP')]\n",
            "[('in', 'IN')]\n",
            "[('parliament', 'NN')]\n"
          ]
        }
      ]
    },
    {
      "cell_type": "markdown",
      "source": [
        "**Chunking**"
      ],
      "metadata": {
        "id": "Wp1d3X8ol1cH"
      }
    },
    {
      "cell_type": "code",
      "source": [
        "txt = 'we saw the yellow dog'"
      ],
      "metadata": {
        "id": "Uq6eyQERiEVd"
      },
      "execution_count": 23,
      "outputs": []
    },
    {
      "cell_type": "code",
      "source": [],
      "metadata": {
        "id": "U29GjIGHiEYG"
      },
      "execution_count": null,
      "outputs": []
    },
    {
      "cell_type": "code",
      "source": [],
      "metadata": {
        "id": "j15bHY8biEZh"
      },
      "execution_count": null,
      "outputs": []
    },
    {
      "cell_type": "code",
      "source": [],
      "metadata": {
        "id": "Gl-RHxNKiEc3"
      },
      "execution_count": null,
      "outputs": []
    },
    {
      "cell_type": "code",
      "source": [],
      "metadata": {
        "id": "iyjZSeyTiEfK"
      },
      "execution_count": null,
      "outputs": []
    },
    {
      "cell_type": "code",
      "source": [],
      "metadata": {
        "id": "m8Md9u_piEhv"
      },
      "execution_count": null,
      "outputs": []
    },
    {
      "cell_type": "code",
      "source": [],
      "metadata": {
        "id": "x9aFrwweiEjc"
      },
      "execution_count": null,
      "outputs": []
    },
    {
      "cell_type": "code",
      "source": [],
      "metadata": {
        "id": "Rvp-GJUJiEmy"
      },
      "execution_count": null,
      "outputs": []
    },
    {
      "cell_type": "code",
      "source": [],
      "metadata": {
        "id": "MzQrkxKniEpo"
      },
      "execution_count": null,
      "outputs": []
    }
  ]
}