{
 "cells": [
  {
   "cell_type": "code",
   "execution_count": null,
   "id": "172a715c",
   "metadata": {},
   "outputs": [],
   "source": []
  },
  {
   "cell_type": "code",
   "execution_count": null,
   "id": "5b7a8551",
   "metadata": {},
   "outputs": [],
   "source": [
    "text = '<div class=\"header\"> We trust that time is linear </div>. That it proceeds eternally, uniformly. <h1> Into infinity.<h1> But the distinction between past, https://present.com present and future is nothing but an illusion. 2Yesterday, today and tomorrow are not 3 consecutive, they are connected in a never-ending circle ??. Everything is connected !!.'"
   ]
  },
  {
   "cell_type": "markdown",
   "id": "68bfd0be",
   "metadata": {},
   "source": [
    "### Remove html tags"
   ]
  },
  {
   "cell_type": "code",
   "execution_count": 7,
   "id": "70055141",
   "metadata": {},
   "outputs": [
    {
     "data": {
      "text/plain": [
       "\"Hello Mr. Smith, how are you doing today? The weather is great, and city is awesome.The sky is pinkish-blue. You shouldn't eat cardboard\""
      ]
     },
     "execution_count": 7,
     "metadata": {},
     "output_type": "execute_result"
    }
   ],
   "source": [
    "import re \n",
    "def remove_html_tags(text):\n",
    "    pattern = re.compile(r'<[^>]+>')\n",
    "    return pattern.sub(r'', text)\n",
    "new_text = remove_html_tags(text)\n",
    "new_text"
   ]
  },
  {
   "cell_type": "markdown",
   "id": "cd683830",
   "metadata": {},
   "source": [
    "### Remove URL"
   ]
  },
  {
   "cell_type": "code",
   "execution_count": 8,
   "id": "a1b055c8",
   "metadata": {},
   "outputs": [
    {
     "data": {
      "text/plain": [
       "\"Hello Mr. Smith, how are you doing today? The weather is great, and city is awesome.The sky is pinkish-blue. You shouldn't eat cardboard\""
      ]
     },
     "execution_count": 8,
     "metadata": {},
     "output_type": "execute_result"
    }
   ],
   "source": [
    "rmv_url = re.sub(r'http\\S+', '', new_text)\n",
    "rmv_url"
   ]
  },
  {
   "cell_type": "markdown",
   "id": "9338db53",
   "metadata": {},
   "source": [
    "### Remove HTML and URL using functions"
   ]
  },
  {
   "cell_type": "code",
   "execution_count": 13,
   "id": "48fa0da9",
   "metadata": {},
   "outputs": [
    {
     "name": "stdout",
     "output_type": "stream",
     "text": [
      "The idea was to  bring together a group of remarkable\n",
      "There was an  idea. \n"
     ]
    }
   ],
   "source": [
    "#html and url\n",
    "\n",
    "def url_remove(text):\n",
    "    url_pattern = re.compile(r'https?://\\S+|www\\.\\S+')\n",
    "    return url_pattern.sub(r'', text)\n",
    "\n",
    "def html_remove(text2):\n",
    "    html_pattern = re.compile('<.*?>')\n",
    "    return html_pattern.sub(r'', text2)\n",
    "\n",
    "text = 'The idea was to https://python.org bring together a group of remarkable'\n",
    "print(url_remove(text))\n",
    "text2 = 'There was an <h1> idea. </h1>'\n",
    "print(html_remove(text2))"
   ]
  },
  {
   "cell_type": "code",
   "execution_count": null,
   "id": "0c65f7ea",
   "metadata": {},
   "outputs": [],
   "source": []
  },
  {
   "cell_type": "markdown",
   "id": "4f4780c7",
   "metadata": {},
   "source": [
    "### Remove Number"
   ]
  },
  {
   "cell_type": "code",
   "execution_count": 9,
   "id": "de58a1eb",
   "metadata": {},
   "outputs": [
    {
     "data": {
      "text/plain": [
       "\"Hello Mr. Smith, how are you doing today? The weather is great, and city is awesome.The sky is pinkish-blue. You shouldn't eat cardboard\""
      ]
     },
     "execution_count": 9,
     "metadata": {},
     "output_type": "execute_result"
    }
   ],
   "source": [
    "# there is some number like,... 2yesterday, not 3 consecutive \n",
    "\n",
    "rmv_num = re.sub(r'[0-9]', '', rmv_url)\n",
    "rmv_num"
   ]
  },
  {
   "cell_type": "markdown",
   "id": "f808a53d",
   "metadata": {},
   "source": [
    "### Remove Punctuation"
   ]
  },
  {
   "cell_type": "code",
   "execution_count": 10,
   "id": "d26be4b1",
   "metadata": {},
   "outputs": [
    {
     "data": {
      "text/plain": [
       "'Hello Mr Smith how are you doing today The weather is great and city is awesomeThe sky is pinkishblue You shouldnt eat cardboard'"
      ]
     },
     "execution_count": 10,
     "metadata": {},
     "output_type": "execute_result"
    }
   ],
   "source": [
    "rmv_punc = re.sub(r'[^\\w\\s]', '', rmv_num)\n",
    "rmv_punc"
   ]
  },
  {
   "cell_type": "markdown",
   "id": "e614a746",
   "metadata": {},
   "source": [
    "### Remove punctuation using string"
   ]
  },
  {
   "cell_type": "code",
   "execution_count": 11,
   "id": "1165776b",
   "metadata": {},
   "outputs": [
    {
     "data": {
      "text/plain": [
       "'Hey  Good Morning Wanna walk with you '"
      ]
     },
     "execution_count": 11,
     "metadata": {},
     "output_type": "execute_result"
    }
   ],
   "source": [
    "import string\n",
    "morning = 'Hey !! Good Morning,. Wanna walk with you ?'\n",
    "\n",
    "new_morning = morning.translate((str.maketrans('', '', string.punctuation)))\n",
    "new_morning"
   ]
  },
  {
   "cell_type": "markdown",
   "id": "7f1194aa",
   "metadata": {},
   "source": [
    "### Remove punctuation with function"
   ]
  },
  {
   "cell_type": "code",
   "execution_count": 17,
   "id": "b74711d9",
   "metadata": {},
   "outputs": [
    {
     "name": "stdout",
     "output_type": "stream",
     "text": [
      "BlackAdam I was a slave until I died Then I was reborn a god My son sacrificed his life to save me \n",
      "Now I kneel before no one\n"
     ]
    }
   ],
   "source": [
    "punc = string.punctuation\n",
    "def punc_clean(text):\n",
    "    return text.translate(str.maketrans('', '', punc))\n",
    "\n",
    "text = '''Black-Adam: I was a slave until I died. Then I was reborn a god. My son sacrificed his life to save me. \n",
    "Now, I kneel before no one.'''\n",
    "\n",
    "print(punc_clean(text))"
   ]
  },
  {
   "cell_type": "markdown",
   "id": "be16b923",
   "metadata": {},
   "source": [
    "### Remove punctuation using replace with loop"
   ]
  },
  {
   "cell_type": "code",
   "execution_count": 12,
   "id": "4ab7ef21",
   "metadata": {},
   "outputs": [
    {
     "data": {
      "text/plain": [
       "'I want to become a dragon king'"
      ]
     },
     "execution_count": 12,
     "metadata": {},
     "output_type": "execute_result"
    }
   ],
   "source": [
    "\n",
    "line = 'I want to become! a dragon [k]ing?'\n",
    "\n",
    "for s in string.punctuation:\n",
    "    line = line.replace(s, '')\n",
    "line"
   ]
  },
  {
   "cell_type": "code",
   "execution_count": null,
   "id": "326122c5",
   "metadata": {},
   "outputs": [],
   "source": []
  },
  {
   "cell_type": "markdown",
   "id": "db98630c",
   "metadata": {},
   "source": [
    "### Remove non-ascii"
   ]
  },
  {
   "cell_type": "code",
   "execution_count": 20,
   "id": "e92d75cd",
   "metadata": {},
   "outputs": [
    {
     "name": "stdout",
     "output_type": "stream",
     "text": [
      "abc\n"
     ]
    }
   ],
   "source": [
    "import string\n",
    "\n",
    "def remove_non_ascii(string):\n",
    "    return string.encode('ascii', errors='ignore').decode()\n",
    "print(remove_non_ascii('abñác'))"
   ]
  },
  {
   "cell_type": "code",
   "execution_count": 21,
   "id": "b6103096",
   "metadata": {},
   "outputs": [
    {
     "name": "stdout",
     "output_type": "stream",
     "text": [
      "britanica\n"
     ]
    }
   ],
   "source": [
    "def remove_non_ascii(string):\n",
    "    return ''.join(char for char in string if ord(char)<128)\n",
    "print(remove_non_ascii('britañnicáa'))"
   ]
  },
  {
   "cell_type": "code",
   "execution_count": null,
   "id": "a9465275",
   "metadata": {},
   "outputs": [],
   "source": []
  },
  {
   "cell_type": "markdown",
   "id": "733e9a42",
   "metadata": {},
   "source": [
    "### Contractions"
   ]
  },
  {
   "cell_type": "code",
   "execution_count": 18,
   "id": "2c2962f6",
   "metadata": {},
   "outputs": [
    {
     "data": {
      "text/plain": [
       "'I am missing you very much'"
      ]
     },
     "execution_count": 18,
     "metadata": {},
     "output_type": "execute_result"
    }
   ],
   "source": [
    "import contractions\n",
    "\n",
    "text = \"I'm missing you very much\"\n",
    "new = contractions.fix(text)\n",
    "new"
   ]
  },
  {
   "cell_type": "code",
   "execution_count": 19,
   "id": "5d22ac33",
   "metadata": {},
   "outputs": [
    {
     "name": "stdout",
     "output_type": "stream",
     "text": [
      "['Shakil:', 'I will', 'be', 'there', 'in', '5', 'minutes.', 'Mou:', 'That is', 'so', 'kind', 'of', 'you', 'sir.', 'Shakil:', 'I', 'think', 'it is', 'sarcasm', '!', 'Mou:', 'You', 'think', '?', 'If', 'you', 'do not', 'come', 'in', '5', 'minutes,', 'I', 'will', 'leave.'] \n",
      "\n",
      "Shakil: I will be there in 5 minutes. Mou: That is so kind of you sir. Shakil: I think it is sarcasm ! Mou: You think ? If you do not come in 5 minutes, I will leave.\n"
     ]
    }
   ],
   "source": [
    "text = '''Shakil: I'll be there in 5 minutes. \n",
    "          Mou: That's so kind of you sir. \n",
    "          Shakil: I think it's sarcasm ! \n",
    "          Mou: You think ? If you don't come in 5 minutes, I will leave.'''\n",
    "\n",
    "splitting_text=[]\n",
    "\n",
    "for w in text.split():\n",
    "    splitting_text.append(contractions.fix(w))\n",
    "    \n",
    "joining_text = ' '.join(splitting_text)\n",
    "\n",
    "print(splitting_text, '\\n')\n",
    "print(joining_text)\n"
   ]
  },
  {
   "cell_type": "code",
   "execution_count": null,
   "id": "518134fd",
   "metadata": {},
   "outputs": [],
   "source": []
  },
  {
   "cell_type": "code",
   "execution_count": null,
   "id": "62122bb9",
   "metadata": {},
   "outputs": [],
   "source": []
  },
  {
   "cell_type": "code",
   "execution_count": null,
   "id": "38b13f77",
   "metadata": {},
   "outputs": [],
   "source": []
  },
  {
   "cell_type": "code",
   "execution_count": null,
   "id": "e0d4d991",
   "metadata": {},
   "outputs": [],
   "source": []
  },
  {
   "cell_type": "code",
   "execution_count": null,
   "id": "a75a6a24",
   "metadata": {},
   "outputs": [],
   "source": []
  }
 ],
 "metadata": {
  "kernelspec": {
   "display_name": "Python 3 (ipykernel)",
   "language": "python",
   "name": "python3"
  },
  "language_info": {
   "codemirror_mode": {
    "name": "ipython",
    "version": 3
   },
   "file_extension": ".py",
   "mimetype": "text/x-python",
   "name": "python",
   "nbconvert_exporter": "python",
   "pygments_lexer": "ipython3",
   "version": "3.9.13"
  }
 },
 "nbformat": 4,
 "nbformat_minor": 5
}
